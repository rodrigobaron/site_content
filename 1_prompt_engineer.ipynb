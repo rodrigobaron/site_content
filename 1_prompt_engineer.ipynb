{
 "cells": [
  {
   "cell_type": "code",
   "execution_count": 1,
   "metadata": {},
   "outputs": [
    {
     "data": {
      "application/vnd.jupyter.widget-view+json": {
       "model_id": "8b55204f040449c89081c083db08bfe1",
       "version_major": 2,
       "version_minor": 0
      },
      "text/plain": [
       "tokenizer_config.json:   0%|          | 0.00/1.62k [00:00<?, ?B/s]"
      ]
     },
     "metadata": {},
     "output_type": "display_data"
    },
    {
     "data": {
      "application/vnd.jupyter.widget-view+json": {
       "model_id": "a99ea6aa17644bac9267a9f4624867f5",
       "version_major": 2,
       "version_minor": 0
      },
      "text/plain": [
       "tokenizer.model:   0%|          | 0.00/493k [00:00<?, ?B/s]"
      ]
     },
     "metadata": {},
     "output_type": "display_data"
    },
    {
     "data": {
      "application/vnd.jupyter.widget-view+json": {
       "model_id": "1cd89bb1718e48469c38036956ff89c3",
       "version_major": 2,
       "version_minor": 0
      },
      "text/plain": [
       "tokenizer.json:   0%|          | 0.00/1.80M [00:00<?, ?B/s]"
      ]
     },
     "metadata": {},
     "output_type": "display_data"
    },
    {
     "data": {
      "application/vnd.jupyter.widget-view+json": {
       "model_id": "302c6e5208894412ac79f73798577e13",
       "version_major": 2,
       "version_minor": 0
      },
      "text/plain": [
       "added_tokens.json:   0%|          | 0.00/53.0 [00:00<?, ?B/s]"
      ]
     },
     "metadata": {},
     "output_type": "display_data"
    },
    {
     "data": {
      "application/vnd.jupyter.widget-view+json": {
       "model_id": "9c86d128e268489fab00082dd24e067f",
       "version_major": 2,
       "version_minor": 0
      },
      "text/plain": [
       "special_tokens_map.json:   0%|          | 0.00/491 [00:00<?, ?B/s]"
      ]
     },
     "metadata": {},
     "output_type": "display_data"
    },
    {
     "name": "stderr",
     "output_type": "stream",
     "text": [
      "Special tokens have been added in the vocabulary, make sure the associated word embeddings are fine-tuned or trained.\n"
     ]
    },
    {
     "data": {
      "application/vnd.jupyter.widget-view+json": {
       "model_id": "132a53fed9fe4c3fb8305048b68ce1bc",
       "version_major": 2,
       "version_minor": 0
      },
      "text/plain": [
       "config.json:   0%|          | 0.00/651 [00:00<?, ?B/s]"
      ]
     },
     "metadata": {},
     "output_type": "display_data"
    },
    {
     "data": {
      "application/vnd.jupyter.widget-view+json": {
       "model_id": "e1764446b7a44b0d84627f8a3efc4f34",
       "version_major": 2,
       "version_minor": 0
      },
      "text/plain": [
       "model.safetensors.index.json:   0%|          | 0.00/23.9k [00:00<?, ?B/s]"
      ]
     },
     "metadata": {},
     "output_type": "display_data"
    },
    {
     "data": {
      "application/vnd.jupyter.widget-view+json": {
       "model_id": "d31688bdeed74204bb0f3100aef2c4e5",
       "version_major": 2,
       "version_minor": 0
      },
      "text/plain": [
       "Downloading shards:   0%|          | 0/3 [00:00<?, ?it/s]"
      ]
     },
     "metadata": {},
     "output_type": "display_data"
    },
    {
     "data": {
      "application/vnd.jupyter.widget-view+json": {
       "model_id": "d47a19c1e24944fb8fc6f7e389c3bead",
       "version_major": 2,
       "version_minor": 0
      },
      "text/plain": [
       "model-00001-of-00003.safetensors:   0%|          | 0.00/4.94G [00:00<?, ?B/s]"
      ]
     },
     "metadata": {},
     "output_type": "display_data"
    },
    {
     "data": {
      "application/vnd.jupyter.widget-view+json": {
       "model_id": "666b5426c9e945428f14c0d6eff3f2d1",
       "version_major": 2,
       "version_minor": 0
      },
      "text/plain": [
       "model-00002-of-00003.safetensors:   0%|          | 0.00/5.00G [00:00<?, ?B/s]"
      ]
     },
     "metadata": {},
     "output_type": "display_data"
    },
    {
     "data": {
      "application/vnd.jupyter.widget-view+json": {
       "model_id": "102ea31b88d241d08d5e52d78f40f18b",
       "version_major": 2,
       "version_minor": 0
      },
      "text/plain": [
       "model-00003-of-00003.safetensors:   0%|          | 0.00/4.54G [00:00<?, ?B/s]"
      ]
     },
     "metadata": {},
     "output_type": "display_data"
    },
    {
     "data": {
      "application/vnd.jupyter.widget-view+json": {
       "model_id": "8019887986f8419b8120785c6f85fd56",
       "version_major": 2,
       "version_minor": 0
      },
      "text/plain": [
       "Loading checkpoint shards:   0%|          | 0/3 [00:00<?, ?it/s]"
      ]
     },
     "metadata": {},
     "output_type": "display_data"
    },
    {
     "data": {
      "application/vnd.jupyter.widget-view+json": {
       "model_id": "bf08ca365a674165a0da6e7886889278",
       "version_major": 2,
       "version_minor": 0
      },
      "text/plain": [
       "generation_config.json:   0%|          | 0.00/179 [00:00<?, ?B/s]"
      ]
     },
     "metadata": {},
     "output_type": "display_data"
    },
    {
     "name": "stderr",
     "output_type": "stream",
     "text": [
      "/usr/local/lib/python3.9/dist-packages/transformers/generation/configuration_utils.py:389: UserWarning: `do_sample` is set to `False`. However, `temperature` is set to `0.5` -- this flag is only used in sample-based generation modes. You should set `do_sample=True` or unset `temperature`. This was detected when initializing the generation config instance, which means the corresponding file may hold incorrect parameterization and should be fixed.\n",
      "  warnings.warn(\n"
     ]
    }
   ],
   "source": [
    "from transformers import AutoTokenizer, AutoModelForCausalLM\n",
    "import torch\n",
    "\n",
    "from transformers import BitsAndBytesConfig\n",
    "from torch import bfloat16\n",
    "\n",
    "# Our 4-bit configuration to load the LLM with less GPU memory\n",
    "bnb_config = BitsAndBytesConfig(\n",
    "    load_in_4bit=True,  # 4-bit quantization\n",
    "    bnb_4bit_quant_type='nf4',  # Normalized float 4\n",
    "    bnb_4bit_use_double_quant=True,  # Second quantization after the first\n",
    "    bnb_4bit_compute_dtype=bfloat16  # Computation type\n",
    ")\n",
    "\n",
    "model_id = \"openchat/openchat-3.5-0106\"\n",
    "\n",
    "tokenizer = AutoTokenizer.from_pretrained(model_id, revision='main', use_fast=True, trust_remote_code=True)\n",
    "model = AutoModelForCausalLM.from_pretrained(\n",
    "    model_id,\n",
    "    quantization_config=bnb_config, device_map='auto'\n",
    ")"
   ]
  },
  {
   "cell_type": "code",
   "execution_count": 2,
   "metadata": {},
   "outputs": [],
   "source": [
    "\n",
    "from transformers import TextIteratorStreamer\n",
    "from threading import Thread\n",
    "\n",
    "def chat(messages, model, tokenizer, **kwargs):\n",
    "    input_ids = tokenizer.apply_chat_template(messages, add_generation_prompt=True, return_tensors=\"pt\")\n",
    "    input_ids = input_ids.to(\"cuda\")\n",
    "    streamer = TextIteratorStreamer(tokenizer, timeout=60.0, skip_prompt=True, skip_special_tokens=True)\n",
    "    \n",
    "    gen_kwargs = {\"input_ids\": input_ids, \"max_length\": 512, \"eos_token_id\": tokenizer.eos_token_id, \"streamer\": streamer, 'do_sample': True, 'temperature': None, 'top_k': 10}\n",
    "    thread = Thread(target=model.generate, kwargs=gen_kwargs)\n",
    "    thread.start()\n",
    "    return streamer\n",
    "\n",
    "def display_chat(prompt, system=None, **kwargs):\n",
    "    messages = [{'role': 'user', 'content': prompt}]\n",
    "    if system is not None:\n",
    "        messages = [{'role': 'system', 'content': system}] + messages\n",
    "\n",
    "    for word in chat(messages, model, tokenizer):\n",
    "        print(word, end='')\n"
   ]
  },
  {
   "cell_type": "markdown",
   "metadata": {},
   "source": [
    "## 1 - No need to be polite"
   ]
  },
  {
   "cell_type": "code",
   "execution_count": 13,
   "metadata": {},
   "outputs": [
    {
     "name": "stderr",
     "output_type": "stream",
     "text": [
      "The attention mask and the pad token id were not set. As a consequence, you may observe unexpected behavior. Please pass your input's `attention_mask` to obtain reliable results.\n",
      "Setting `pad_token_id` to `eos_token_id`:32000 for open-end generation.\n"
     ]
    },
    {
     "name": "stdout",
     "output_type": "stream",
     "text": [
      "Sure, here's a simple Python snippet that prints \"Hello, World!\":\n",
      "\n",
      "```python\n",
      "print(\"Hello, World!\")\n",
      "```"
     ]
    }
   ],
   "source": [
    "display_chat(\"write an python hello wold snippet?\")"
   ]
  },
  {
   "cell_type": "markdown",
   "metadata": {},
   "source": [
    "## 2 - Integrate the intended audience"
   ]
  },
  {
   "cell_type": "code",
   "execution_count": 16,
   "metadata": {},
   "outputs": [
    {
     "name": "stderr",
     "output_type": "stream",
     "text": [
      "The attention mask and the pad token id were not set. As a consequence, you may observe unexpected behavior. Please pass your input's `attention_mask` to obtain reliable results.\n",
      "Setting `pad_token_id` to `eos_token_id`:32000 for open-end generation.\n"
     ]
    },
    {
     "name": "stdout",
     "output_type": "stream",
     "text": [
      "Sure! Here's a simple Python code snippet that prints \"Hello, World!\" to the console:\n",
      "\n",
      "```python\n",
      "print(\"Hello, World!\")\n",
      "```\n",
      "\n",
      "To use this code, follow these steps:\n",
      "\n",
      "1. Open a text editor (like Notepad, TextEdit, or Sublime Text).\n",
      "2. Copy and paste the code above into the text editor.\n",
      "3. Save the file with a `.py` extension (e.g., `hello_world.py`).\n",
      "4. Open a terminal or command prompt.\n",
      "5. Navigate to the directory where you saved the file.\n",
      "6. Run the script by typing `python hello_world.py` and pressing Enter.\n",
      "\n",
      "You should see \"Hello, World!\" printed in the terminal."
     ]
    }
   ],
   "source": [
    "display_chat(\"write an python hello wold snippet, for someone who's don't know how to write code!\")"
   ]
  },
  {
   "cell_type": "markdown",
   "metadata": {},
   "source": [
    "## 3 - Break down complex tasks into a sequence of simpler prompts in an interactive conversation."
   ]
  },
  {
   "cell_type": "code",
   "execution_count": null,
   "metadata": {},
   "outputs": [],
   "source": []
  },
  {
   "cell_type": "markdown",
   "metadata": {},
   "source": [
    "## 4 - Employ affirmative directives such as ‘do,’ while steering clear of negative language like ‘don’t’. "
   ]
  },
  {
   "cell_type": "code",
   "execution_count": 3,
   "metadata": {},
   "outputs": [
    {
     "name": "stderr",
     "output_type": "stream",
     "text": [
      "/usr/local/lib/python3.9/dist-packages/transformers/generation/utils.py:1518: UserWarning: You have modified the pretrained model configuration to control generation. This is a deprecated strategy to control generation and will be removed soon, in a future version. Please use and modify the model generation configuration (see https://huggingface.co/docs/transformers/generation_strategies#default-text-generation-configuration )\n",
      "  warnings.warn(\n",
      "The attention mask and the pad token id were not set. As a consequence, you may observe unexpected behavior. Please pass your input's `attention_mask` to obtain reliable results.\n",
      "Setting `pad_token_id` to `eos_token_id`:32000 for open-end generation.\n"
     ]
    },
    {
     "name": "stdout",
     "output_type": "stream",
     "text": [
      "Object-oriented programming (OOP) is a programming paradigm that uses \"objects\" to design and construct programs. Objects are instances of classes, which encapsulate data and behaviors (or functions) within a single unit. OOP is based on four fundamental concepts:\n",
      "\n",
      "1. Encapsulation: This refers to the bundling of data (attributes) and methods (functions or behaviors) that operate on the data within a single entity, an object. Encapsulation promotes data hiding by restricting direct access to an object's internal state, while providing public methods to interact with the object's data. This helps in achieving modularity and reduces the chances of unintended interference with the object's data.\n",
      "\n",
      "2. Inheritance: Inheritance is the process by which a class (child or subclass) inherits attributes and methods from another class (parent or superclass). This allows for the reuse of code and the creation of a hierarchical relationship between classes, where the child class can be a specialized version of the parent class. Inheritance can be implemented using various mechanisms, such as \"is-a\" relationships (where a child class is a specific instance of a parent class) or \"implements\" relationships (where a class implements an interface).\n",
      "\n",
      "3. Polymorphism: Polymorphism allows objects of different classes to be treated as objects of a common superclass, enabling a single interface to represent different data types. This concept is often used to create flexible and extensible code. Polymorphism can be achieved using different mechanisms, such as method overloading (multiple methods with the same name but different parameters) or method overriding (redefining a parent class method in a child class).\n",
      "\n",
      "4. Abstraction: Abstraction is the process of simplifying a complex system by breaking it down into smaller, more manageable parts. In OOP, abstraction involves creating classes that represent real-world entities, focusing on the essential properties and behaviors. Abstraction hides the implementation details and exposes only the necessary interface for the user, making the system easier to understand and manipulate.\n",
      "\n",
      "In summary, object-oriented programming is a programming paradigm that organizes code around objects, which are instances of classes. OOP promotes mod"
     ]
    }
   ],
   "source": [
    "display_chat(\"Define the concept of object oriented\")"
   ]
  },
  {
   "cell_type": "markdown",
   "metadata": {},
   "source": [
    "## 5 - Explain to me like I’m 11 years old."
   ]
  },
  {
   "cell_type": "code",
   "execution_count": 4,
   "metadata": {},
   "outputs": [
    {
     "name": "stderr",
     "output_type": "stream",
     "text": [
      "The attention mask and the pad token id were not set. As a consequence, you may observe unexpected behavior. Please pass your input's `attention_mask` to obtain reliable results.\n",
      "Setting `pad_token_id` to `eos_token_id`:32000 for open-end generation.\n"
     ]
    },
    {
     "name": "stdout",
     "output_type": "stream",
     "text": [
      "Object-oriented is a way of programming that helps us think about and organize things in a more intuitive and real-world way. Imagine you have a group of building blocks with different shapes, colors, and sizes. In object-oriented programming, each block would be called an \"object.\"\n",
      "\n",
      "Each object has its own properties, like being a certain color or shape, and can also do things, like move around or make a noise. We call these things that the object can do \"methods.\" So, if we had a square block, it might have a method called \"move\" that made it slide across the table.\n",
      "\n",
      "We can also group objects together based on their properties or what they can do. For example, we might have a group of blocks that are all blue or a group that can all move on their own. This way of organizing things is called a \"class.\" Each class is like a blueprint that tells us what properties and methods objects should have.\n",
      "\n",
      "By organizing our ideas and code using classes and objects, we can think of and describe things in a more natural and easy-to-understand way. This helps us write code that is more organized, maintainable, and fun to work with!"
     ]
    }
   ],
   "source": [
    "display_chat(\"Define the concept of object oriented, explain to me like I’m 11 years old\")"
   ]
  },
  {
   "cell_type": "markdown",
   "metadata": {},
   "source": [
    "## 6 - Add “I’m going to tip $xxx for a better solution!”"
   ]
  },
  {
   "cell_type": "code",
   "execution_count": 18,
   "metadata": {},
   "outputs": [
    {
     "name": "stderr",
     "output_type": "stream",
     "text": [
      "The attention mask and the pad token id were not set. As a consequence, you may observe unexpected behavior. Please pass your input's `attention_mask` to obtain reliable results.\n",
      "Setting `pad_token_id` to `eos_token_id`:32000 for open-end generation.\n"
     ]
    },
    {
     "name": "stdout",
     "output_type": "stream",
     "text": [
      "Here is a simple calculator in Python that can perform addition, subtraction, multiplication, and division:\n",
      "\n",
      "```python\n",
      "def calculator():\n",
      "   while True:\n",
      "       try:\n",
      "           num1 = float(input(\"Enter first number: \"))\n",
      "           num2 = float(input(\"Enter second number: \"))\n",
      "           operation = input(\"Enter operation (+, -, *, /): \")\n",
      "\n",
      "           if operation == \"+\":\n",
      "               print(\"Result:\", num1 + num2)\n",
      "           elif operation == \"-\":\n",
      "               print(\"Result:\", num1 - num2)\n",
      "           elif operation == \"*\":\n",
      "               print(\"Result:\", num1 * num2)\n",
      "           elif operation == \"/\":\n",
      "               if num2 == 0:\n",
      "                   print(\"Error: Division by zero is not allowed.\")\n",
      "               else:\n",
      "                   print(\"Result:\", num1 / num2)\n",
      "           else:\n",
      "               print(\"Invalid operation. Please enter +, -, *, or /.\")\n",
      "\n",
      "           another_calculation = input(\"Do you want to perform another calculation? (y/n): \")\n",
      "           if another_calculation.lower() != \"y\":\n",
      "               break\n",
      "\n",
      "       except ValueError:\n",
      "           print(\"Invalid input. Please enter a valid number.\")\n",
      "\n",
      "\n",
      "if __name__ == \"__main__\":\n",
      "   calculator()\n",
      "```\n",
      "\n",
      "To use this calculator, simply run the script and follow the prompts. Enter the first number, the second number, and the desired operation. The result will be displayed, and you will be asked if you want to perform another calculation. If you enter \"n\" or any other value that is not \"y\", the program will exit."
     ]
    }
   ],
   "source": [
    "display_chat(\"write an calculator in python\")"
   ]
  },
  {
   "cell_type": "code",
   "execution_count": 17,
   "metadata": {},
   "outputs": [
    {
     "name": "stderr",
     "output_type": "stream",
     "text": [
      "The attention mask and the pad token id were not set. As a consequence, you may observe unexpected behavior. Please pass your input's `attention_mask` to obtain reliable results.\n",
      "Setting `pad_token_id` to `eos_token_id`:32000 for open-end generation.\n"
     ]
    },
    {
     "name": "stdout",
     "output_type": "stream",
     "text": [
      "Here's a simple calculator in Python that can perform basic arithmetic operations like addition, subtraction, multiplication, and division. You can run this code in a Python environment or an online Python interpreter.\n",
      "\n",
      "```python\n",
      "def add(x, y):\n",
      "   return x + y\n",
      "\n",
      "def subtract(x, y):\n",
      "   return x - y\n",
      "\n",
      "def multiply(x, y):\n",
      "   return x * y\n",
      "\n",
      "def divide(x, y):\n",
      "   if y == 0:\n",
      "       return \"Error! Division by zero.\"\n",
      "   else:\n",
      "       return x / y\n",
      "\n",
      "while True:\n",
      "   print(\"Options:\")\n",
      "   print(\"1. Add\")\n",
      "   print(\"2. Subtract\")\n",
      "   print(\"3. Multiply\")\n",
      "   print(\"4. Divide\")\n",
      "   print(\"5. Exit\")\n",
      "\n",
      "   choice = input(\"Enter your choice (1/2/3/4/5): \")\n",
      "\n",
      "   if choice == '5':\n",
      "       break\n",
      "   else:\n",
      "       num1 = float(input(\"Enter first number: \"))\n",
      "       num2 = float(input(\"Enter second number: \"))\n",
      "\n",
      "   if choice == '1':\n",
      "       print(\"Result: \", add(num1, num2))\n",
      "   elif choice == '2':\n",
      "       print(\"Result: \", subtract(num1, num2))\n",
      "   elif choice == '3':\n",
      "       print(\"Result: \", multiply(num1, num2))\n",
      "   elif choice == '4':\n",
      "       print(\"Result: \", divide(num1, num2))\n",
      "   else:\n",
      "       print(\"Invalid input\")\n",
      "```\n",
      "\n",
      "This calculator will continue to prompt you for input until you choose to exit by entering 5."
     ]
    }
   ],
   "source": [
    "display_chat(\"write an calculator in python, I’m going to tip $100 for a better solution\")"
   ]
  },
  {
   "cell_type": "markdown",
   "metadata": {},
   "source": [
    "# 7 - Use few-shot prompting"
   ]
  },
  {
   "cell_type": "code",
   "execution_count": 7,
   "metadata": {},
   "outputs": [
    {
     "name": "stderr",
     "output_type": "stream",
     "text": [
      "The attention mask and the pad token id were not set. As a consequence, you may observe unexpected behavior. Please pass your input's `attention_mask` to obtain reliable results.\n",
      "Setting `pad_token_id` to `eos_token_id`:32000 for open-end generation.\n"
     ]
    },
    {
     "name": "stdout",
     "output_type": "stream",
     "text": [
      "To solve this expression, follow the order of operations (PEMDAS/BODMAS):\n",
      "\n",
      "1. Parentheses: There are no parentheses in this expression.\n",
      "2. Exponents: There are no exponents in this expression.\n",
      "3. Multiplication and Division: Perform the division and multiplication from left to right.\n",
      "4. Addition and Subtraction: Perform the addition and subtraction from left to right.\n",
      "\n",
      "10 / 2 + 2 * 2\n",
      "\n",
      "Step 1: Perform the division (10 / 2):\n",
      "5 + 2 * 2\n",
      "\n",
      "Step 2: Perform the multiplication (2 * 2):\n",
      "5 + 4\n",
      "\n",
      "Step 3: Perform the addition (5 + 4):\n",
      "9\n",
      "\n",
      "So, 10 / 2 + 2 * 2 = 9."
     ]
    }
   ],
   "source": [
    "display_chat(\"\"\" Example:\n",
    "20 / 10 * 2 = (20 / 10) * 2 = 2 * 2 = 4\n",
    "Question: how much is 10 / 2 + 2 * 2?\"\"\")"
   ]
  },
  {
   "cell_type": "markdown",
   "metadata": {},
   "source": [
    "## 8 - Use ###Instruction###  when formatting your prompt"
   ]
  },
  {
   "cell_type": "code",
   "execution_count": 8,
   "metadata": {},
   "outputs": [
    {
     "name": "stderr",
     "output_type": "stream",
     "text": [
      "The attention mask and the pad token id were not set. As a consequence, you may observe unexpected behavior. Please pass your input's `attention_mask` to obtain reliable results.\n",
      "Setting `pad_token_id` to `eos_token_id`:32000 for open-end generation.\n"
     ]
    },
    {
     "name": "stdout",
     "output_type": "stream",
     "text": [
      "To solve the math equation, we need to follow the order of operations, which is Parentheses, Exponents, Multiplication and Division (from left to right), Addition and Subtraction (from left to right). \n",
      "\n",
      "The given equation is:\n",
      "10 / 2 + 2 * 2\n",
      "\n",
      "First, we need to solve the multiplication:\n",
      "10 / 2 + 4\n",
      "\n",
      "Now, we can perform the division and addition:\n",
      "5 + 4\n",
      "\n",
      "The final result is:\n",
      "9"
     ]
    }
   ],
   "source": [
    "display_chat(\"\"\"\n",
    "###Instruction###\n",
    "Before solve math equation break down into small problems\n",
    "###Example###\n",
    "20 / 10 * 2 = (20 / 10) * 2 = 2 * 2 = 4\n",
    "###Question###\n",
    "how much is 10 / 2 + 2 * 2?\"\"\")"
   ]
  },
  {
   "cell_type": "markdown",
   "metadata": {},
   "source": [
    "## 9 - Incorporate the following phrases: “Your task is” and “You MUST”"
   ]
  },
  {
   "cell_type": "code",
   "execution_count": 10,
   "metadata": {},
   "outputs": [
    {
     "name": "stderr",
     "output_type": "stream",
     "text": [
      "The attention mask and the pad token id were not set. As a consequence, you may observe unexpected behavior. Please pass your input's `attention_mask` to obtain reliable results.\n",
      "Setting `pad_token_id` to `eos_token_id`:32000 for open-end generation.\n"
     ]
    },
    {
     "name": "stdout",
     "output_type": "stream",
     "text": [
      "Yes"
     ]
    }
   ],
   "source": [
    "display_chat(\"You must say just 'Yes' or 'No' nothing else. Python is an programing language?\")"
   ]
  },
  {
   "cell_type": "markdown",
   "metadata": {},
   "source": [
    "## 10 - Incorporate the following phrases: “You will be penalized”"
   ]
  },
  {
   "cell_type": "code",
   "execution_count": 11,
   "metadata": {},
   "outputs": [
    {
     "name": "stderr",
     "output_type": "stream",
     "text": [
      "The attention mask and the pad token id were not set. As a consequence, you may observe unexpected behavior. Please pass your input's `attention_mask` to obtain reliable results.\n",
      "Setting `pad_token_id` to `eos_token_id`:32000 for open-end generation.\n"
     ]
    },
    {
     "name": "stdout",
     "output_type": "stream",
     "text": [
      "Sure, here's a simple calculator program in Python:\n",
      "\n",
      "```python\n",
      "def calculator():\n",
      "   while True:\n",
      "       try:\n",
      "           num1 = float(input(\"Enter first number: \"))\n",
      "           operator = input(\"Enter an operator (+, -, *, /): \")\n",
      "           num2 = float(input(\"Enter second number: \"))\n",
      "\n",
      "           if operator == \"+\":\n",
      "               result = num1 + num2\n",
      "           elif operator == \"-\":\n",
      "               result = num1 - num2\n",
      "           elif operator == \"*\":\n",
      "               result = num1 * num2\n",
      "           elif operator == \"/\":\n",
      "               if num2 == 0:\n",
      "                   print(\"Error: Cannot divide by zero.\")\n",
      "               else:\n",
      "                   result = num1 / num2\n",
      "           else:\n",
      "               print(\"Invalid operator\")\n",
      "\n",
      "           print(\"The result is: \", result)\n",
      "\n",
      "           continue_calculation = input(\"Enter 'y' to continue calculating or 'n' to stop: \")\n",
      "           if continue_calculation == 'n':\n",
      "               break\n",
      "\n",
      "       except ValueError:\n",
      "           print(\"Invalid input, please enter only numbers.\")\n",
      "\n",
      "if __name__ == \"__main__\":\n",
      "   calculator()\n",
      "```\n",
      "\n",
      "This calculator can perform addition, subtraction, multiplication, and division. The user can enter two numbers, an operator, and can also choose to continue calculating or stop calculating.\n",
      "\n",
      "Please remember this code should be used for learning purposes only. It does not include any error handling, security features, or performance optimizations, and should not be used in a production environment."
     ]
    }
   ],
   "source": [
    "display_chat(\"write an calculator in python, you will bel penalized if the code doesn't work\")"
   ]
  },
  {
   "cell_type": "markdown",
   "metadata": {},
   "source": [
    "## 11 - Use ”Answer a question given in a natural, human-like manner”."
   ]
  },
  {
   "cell_type": "code",
   "execution_count": 12,
   "metadata": {},
   "outputs": [
    {
     "name": "stderr",
     "output_type": "stream",
     "text": [
      "The attention mask and the pad token id were not set. As a consequence, you may observe unexpected behavior. Please pass your input's `attention_mask` to obtain reliable results.\n",
      "Setting `pad_token_id` to `eos_token_id`:32000 for open-end generation.\n"
     ]
    },
    {
     "name": "stdout",
     "output_type": "stream",
     "text": [
      "Yes, Python is considered a good programming language. It is known for its simplicity, readability, and versatility, making it a popular choice for a wide range of applications, from web development to data analysis and artificial intelligence. It has a large and active community that continually contributes to its growth and improvement, and its extensive library of modules makes it easy to add functionality and solve complex problems. Overall, Python is highly regarded by both beginners and experienced programmers."
     ]
    }
   ],
   "source": [
    "display_chat(\"Python is an good programing language? Answer a question given in a natural, human-like manner\")"
   ]
  },
  {
   "cell_type": "markdown",
   "metadata": {},
   "source": [
    "## 12 - Use leading words like writing “think step by step”. That is the most know prompt when need reasoning or better answer."
   ]
  },
  {
   "cell_type": "code",
   "execution_count": 13,
   "metadata": {},
   "outputs": [
    {
     "name": "stderr",
     "output_type": "stream",
     "text": [
      "The attention mask and the pad token id were not set. As a consequence, you may observe unexpected behavior. Please pass your input's `attention_mask` to obtain reliable results.\n",
      "Setting `pad_token_id` to `eos_token_id`:32000 for open-end generation.\n"
     ]
    },
    {
     "name": "stdout",
     "output_type": "stream",
     "text": [
      "To run a simple Flask app, follow these steps:\n",
      "\n",
      "Step 1: Install Flask\n",
      "First, you need to install Flask. If you have Python installed on your system, you can use pip to install Flask by running the following command in your terminal or command prompt:\n",
      "```\n",
      "pip install Flask\n",
      "```\n",
      "\n",
      "Step 2: Create a Python script\n",
      "Create a new Python script for your Flask app. You can name it app.py, for example.\n",
      "\n",
      "Step 3: Import Flask and create an app instance\n",
      "At the top of your Python script, import the Flask module and create an instance of the Flask class:\n",
      "```python\n",
      "from flask import Flask\n",
      "app = Flask(__name__)\n",
      "```\n",
      "\n",
      "Step 4: Define a route and create a view function\n",
      "Define a route for your Flask app using the @app.route decorator. Create a view function that returns an HTML string or uses the render_template function to render an HTML file:\n",
      "```python\n",
      "from flask import render_template\n",
      "\n",
      "@app.route('/')\n",
      "def index():\n",
      "   return 'Hello, World!'\n",
      "\n",
      "@app.route('/hello')\n",
      "def hello():\n",
      "   return render_template('hello.html')\n",
      "```\n",
      "\n",
      "Step 5: Create a templates directory and an HTML file\n",
      "Create a folder called templates in the same directory as your Python script. Inside the templates folder, create an HTML file named hello.html or another name you prefer. For example, the hello.html file could contain the following markup:\n",
      "```html\n",
      "<!DOCTYPE html>\n",
      "<html>\n",
      " <head>\n",
      "   <title>Flask App</title>\n",
      " </head>\n",
      " <body>\n",
      "   <h1>Hello, Flask!</h1>\n",
      " </body>\n",
      "</html>\n",
      "```\n",
      "\n",
      "Step 6: Run the Flask app\n",
      "At the end of your Python script, add the following code to run the Flask app:\n",
      "```python\n",
      "if __name__ == '__main__':\n",
      "   app.run(debug=True)\n",
      "```\n",
      "\n",
      "Step 7: Start the Flask"
     ]
    }
   ],
   "source": [
    "display_chat(\"How to run a simple flask app? think step by step\")"
   ]
  },
  {
   "cell_type": "markdown",
   "metadata": {},
   "source": [
    "# 13 - For content creation use “Ensure that your answer is unbiased and does not rely on stereotypes”. "
   ]
  },
  {
   "cell_type": "code",
   "execution_count": 14,
   "metadata": {},
   "outputs": [
    {
     "name": "stderr",
     "output_type": "stream",
     "text": [
      "The attention mask and the pad token id were not set. As a consequence, you may observe unexpected behavior. Please pass your input's `attention_mask` to obtain reliable results.\n",
      "Setting `pad_token_id` to `eos_token_id`:32000 for open-end generation.\n"
     ]
    },
    {
     "name": "stdout",
     "output_type": "stream",
     "text": [
      "Yes, Python is a good programming language. It is known for its simplicity, readability, and versatility, which make it a popular choice for various applications, including web development, data analysis, artificial intelligence, and more. However, the suitability of a programming language can depend on the specific needs of a project or the preferences of a developer. Some developers may find other languages, such as Java or C++, to be more suitable for their projects."
     ]
    }
   ],
   "source": [
    "display_chat(\"Python is an good programing language?. Ensure that your answer is unbiased and does not rely on stereotypes\")"
   ]
  },
  {
   "cell_type": "markdown",
   "metadata": {},
   "source": [
    "## 14 - Make the model ask questions to you, it makes fill the gaps."
   ]
  },
  {
   "cell_type": "code",
   "execution_count": 19,
   "metadata": {},
   "outputs": [
    {
     "name": "stderr",
     "output_type": "stream",
     "text": [
      "The attention mask and the pad token id were not set. As a consequence, you may observe unexpected behavior. Please pass your input's `attention_mask` to obtain reliable results.\n",
      "Setting `pad_token_id` to `eos_token_id`:32000 for open-end generation.\n"
     ]
    },
    {
     "name": "stdout",
     "output_type": "stream",
     "text": [
      "1. Can you explain the difference between traditional prompt-based models and the prompt engineering approach?\n",
      "\n",
      "2. How would you optimize a prompt to achieve better results in a large language model like GPT-4?\n",
      "\n",
      "3. Can you discuss the importance of context and background information in crafting effective prompts for a large language model?\n",
      "\n",
      "4. How do you handle ambiguity and potential misinterpretations in prompts for a large language model?\n",
      "\n",
      "5. Can you provide an example of a complex problem that was solved using prompt engineering, and explain the process you followed?\n",
      "\n",
      "6. How do you ensure that the output from a large language model is aligned with the desired goals and objectives of the prompt?\n",
      "\n",
      "7. What are some common pitfalls or challenges you have encountered when working with prompt engineering, and how have you addressed them?\n",
      "\n",
      "8. How do you balance the need for specificity in a prompt with the desire to maintain flexibility and adaptability in the model's responses?\n",
      "\n",
      "9. Can you discuss the role of iterative testing and refinement in the prompt engineering process?\n",
      "\n",
      "10. How do you stay up-to-date with the latest advancements in prompt engineering and large language models?"
     ]
    }
   ],
   "source": [
    "display_chat(\"I have more than 10 years as SWE and i'm applying to prompt engineering job. Would like to make me interview questions?\")"
   ]
  },
  {
   "cell_type": "markdown",
   "metadata": {},
   "source": [
    "## 15 - Teach me the [Any theorem/topic/rule name] and include a test at the end, but don’t give me the answers and then tell me if I got the answer right when I respond"
   ]
  },
  {
   "cell_type": "code",
   "execution_count": 15,
   "metadata": {},
   "outputs": [
    {
     "name": "stderr",
     "output_type": "stream",
     "text": [
      "The attention mask and the pad token id were not set. As a consequence, you may observe unexpected behavior. Please pass your input's `attention_mask` to obtain reliable results.\n",
      "Setting `pad_token_id` to `eos_token_id`:32000 for open-end generation.\n"
     ]
    },
    {
     "name": "stdout",
     "output_type": "stream",
     "text": [
      "Sure, I can teach you about Object-Oriented Programming (OOP) and provide you with a test. I won't give you the answers, and I'll let you know if you got the correct answer when you respond. Let's start by discussing the core concepts of OOP:\n",
      "\n",
      "1. Encapsulation: This concept is about bundling data (variables) and methods (functions) that operate on the data into a single unit called a class. It also restricts direct access to some of the object's components, which is achieved by using private and protected access modifiers.\n",
      "\n",
      "2. Inheritance: This concept allows you to create a new class from an existing class. The new class, called the derived class or subclass, inherits characteristics (attributes and behaviors) from the existing class, called the parent class or base class. This leads to the reusability of code and better organization.\n",
      "\n",
      "3. Polymorphism: This concept allows objects of different classes to be treated as objects of a common superclass. It enables one interface to represent a general class of actions. Polymorphism allows for more flexible and powerful code by enabling a single function (or method) to behave differently depending on the object.\n",
      "\n",
      "4. Abstraction: This concept involves creating a high-level, abstract representation of objects by hiding the complex reality. Abstraction helps in reducing code complexity and making it simpler for the programmers to develop software.\n",
      "\n",
      "Now, here's a test to check your understanding of these concepts. Answer the following questions:\n",
      "\n",
      "1. What is the process of combining data and methods into a single unit called?\n",
      "2. What is the concept that allows one interface to represent a general class of actions?\n",
      "3. In inheritance, what is the class from which the subclass is derived called?\n",
      "\n",
      "Once you provide your answers, I'll let you know whether you got them right or not."
     ]
    }
   ],
   "source": [
    "display_chat(\"Teach me the OOP and include a test at the end, but don’t give me the answers and then tell me if I got the answer right when I respond\")"
   ]
  },
  {
   "cell_type": "markdown",
   "metadata": {},
   "source": [
    "## 16 - Assign a role to the large language models. "
   ]
  },
  {
   "cell_type": "code",
   "execution_count": 16,
   "metadata": {},
   "outputs": [
    {
     "name": "stderr",
     "output_type": "stream",
     "text": [
      "The attention mask and the pad token id were not set. As a consequence, you may observe unexpected behavior. Please pass your input's `attention_mask` to obtain reliable results.\n",
      "Setting `pad_token_id` to `eos_token_id`:32000 for open-end generation.\n"
     ]
    },
    {
     "name": "stdout",
     "output_type": "stream",
     "text": [
      "There are a few ways to restart your Linux machine. The method you choose depends on whether you want to perform a graceful shutdown or a forceful restart. Here are the methods you can use:\n",
      "\n",
      "For a graceful shutdown (stopping all processes and services, then shutting down):\n",
      "\n",
      "1. Use the `shutdown` command with the `-r` (reboot) option:\n",
      "```css\n",
      "sudo shutdown -r now\n",
      "```\n",
      "\n",
      "2. Use the `reboot` command:\n",
      "```css\n",
      "sudo reboot\n",
      "```\n",
      "\n",
      "For a forceful restart (immediately halting the system without stopping services):\n",
      "\n",
      "1. Use the `poweroff` command:\n",
      "```css\n",
      "sudo poweroff\n",
      "```\n",
      "\n",
      "2. Use the `init` command (for systems using the System V init system, such as older distributions):\n",
      "```css\n",
      "sudo init 6\n",
      "```\n",
      "This command will reboot the system. In case of SystemD systems, use `systemctl reboot` instead."
     ]
    }
   ],
   "source": [
    "display_chat(\"You are an SysAdmin, how i can restart my linux machine?\")"
   ]
  },
  {
   "cell_type": "markdown",
   "metadata": {},
   "source": [
    "## 17 - Use Delimiters."
   ]
  },
  {
   "cell_type": "code",
   "execution_count": 19,
   "metadata": {},
   "outputs": [
    {
     "name": "stderr",
     "output_type": "stream",
     "text": [
      "The attention mask and the pad token id were not set. As a consequence, you may observe unexpected behavior. Please pass your input's `attention_mask` to obtain reliable results.\n",
      "Setting `pad_token_id` to `eos_token_id`:32000 for open-end generation.\n"
     ]
    },
    {
     "name": "stdout",
     "output_type": "stream",
     "text": [
      "Based on the information provided, we cannot determine which one is more important. Both A and B are given different levels of importance, but without additional context or criteria, it is not possible to compare their importance."
     ]
    }
   ],
   "source": [
    "display_chat(\"A is important and B is 'most important'. What is more important?\")"
   ]
  },
  {
   "cell_type": "markdown",
   "metadata": {},
   "source": [
    "## 18 - Repeat a specific word or phrase multiple times within a prompt"
   ]
  },
  {
   "cell_type": "code",
   "execution_count": 20,
   "metadata": {},
   "outputs": [
    {
     "name": "stderr",
     "output_type": "stream",
     "text": [
      "The attention mask and the pad token id were not set. As a consequence, you may observe unexpected behavior. Please pass your input's `attention_mask` to obtain reliable results.\n",
      "Setting `pad_token_id` to `eos_token_id`:32000 for open-end generation.\n"
     ]
    },
    {
     "name": "stdout",
     "output_type": "stream",
     "text": [
      "Unfortunately, I can't provide you with a direct solution to your math problem as you haven't provided any information about the problem. However, I can offer some general advice to help you solve math problems:\n",
      "\n",
      "1. Understand the problem: Read the problem carefully and make sure you understand what you are being asked to find.\n",
      "\n",
      "2. Break down the problem: Often, complex problems can be broken down into smaller, simpler sub-problems that are easier to solve.\n",
      "\n",
      "3. Use appropriate tools and techniques: Depending on the type of problem, you may need to use different techniques, such as algebra, geometry, trigonometry, calculus, or statistics.\n",
      "\n",
      "4. Work step by step: Solve the problem step by step, ensuring you follow the correct order of operations (PEMDAS/BODMAS).\n",
      "\n",
      "5. Check your work: Once you have an answer, double-check your work to make sure you haven't made any mistakes.\n",
      "\n",
      "If you can provide more details about your math problem, I'd be happy to try and help you solve it."
     ]
    }
   ],
   "source": [
    "display_chat(\"I have an math problem. Im not good into math could help me?\")"
   ]
  },
  {
   "cell_type": "markdown",
   "metadata": {},
   "source": [
    "## 19 - Combine Chain-of-thought (CoT) with few-Shot prompts"
   ]
  },
  {
   "cell_type": "markdown",
   "metadata": {},
   "source": [
    "example in next notebook"
   ]
  },
  {
   "cell_type": "markdown",
   "metadata": {},
   "source": [
    "## 20 -  Use output primers, which involve concluding your prompt with the beginning of the desired output."
   ]
  },
  {
   "cell_type": "code",
   "execution_count": null,
   "metadata": {},
   "outputs": [],
   "source": []
  },
  {
   "cell_type": "markdown",
   "metadata": {},
   "source": [
    "## 21 - Write a detailed [essay/text/paragraph] for me on [topic] in detail by adding all the information necessary "
   ]
  },
  {
   "cell_type": "code",
   "execution_count": 23,
   "metadata": {},
   "outputs": [
    {
     "name": "stderr",
     "output_type": "stream",
     "text": [
      "The attention mask and the pad token id were not set. As a consequence, you may observe unexpected behavior. Please pass your input's `attention_mask` to obtain reliable results.\n",
      "Setting `pad_token_id` to `eos_token_id`:32000 for open-end generation.\n"
     ]
    },
    {
     "name": "stdout",
     "output_type": "stream",
     "text": [
      "Data preprocessing is a critical step in the data analysis and machine learning pipeline, as it involves the transformation of raw data into a format that can be effectively used for modeling and analysis. The primary goal of data preprocessing is to prepare the dataset for use in predictive models, ensuring that it is clean, structured, and in a format that can be easily interpreted by algorithms.\n",
      "\n",
      "The process of data preprocessing typically includes several key steps, such as data cleaning, data integration, data transformation, and data reduction. Data cleaning involves handling missing values, removing duplicates, and correcting errors in the dataset. This step is essential to ensure that the data used for analysis is accurate and consistent. Data integration deals with combining data from different sources, which may be structured (e.g., tables, spreadsheets) or unstructured (e.g., text, images). This process often requires data to be converted into a common format, such as a relational database or a tabular structure. Data transformation involves converting raw data into a format that is more suitable for analysis, such as normalizing numerical values, encoding categorical variables, or transforming variables using mathematical functions. This step is crucial for enhancing the interpretability and performance of predictive models. Finally, data reduction aims to minimize the complexity of the dataset by removing irrelevant or redundant features, which can help improve the efficiency and speed of machine learning algorithms.\n",
      "\n",
      "In summary, data preprocessing is an essential aspect of the data analysis and machine learning pipeline, as it prepares the dataset for effective modeling and analysis. By cleaning, integrating, transforming, and reducing the data, preprocessing ensures that the final dataset is accurate, consistent, and suitable for use by predictive models, ultimately leading to more reliable and accurate results."
     ]
    }
   ],
   "source": [
    "display_chat(\"Write a detailed paragraph for me on data preprocessing in detail by adding all the information necessary\")  "
   ]
  },
  {
   "cell_type": "markdown",
   "metadata": {},
   "source": [
    "## 22 - Try to revise every paragraph sent by users. You should only improve the user’s grammar and vocabulary and make sure it sounds natural"
   ]
  },
  {
   "cell_type": "code",
   "execution_count": 24,
   "metadata": {},
   "outputs": [
    {
     "name": "stderr",
     "output_type": "stream",
     "text": [
      "The attention mask and the pad token id were not set. As a consequence, you may observe unexpected behavior. Please pass your input's `attention_mask` to obtain reliable results.\n",
      "Setting `pad_token_id` to `eos_token_id`:32000 for open-end generation.\n"
     ]
    },
    {
     "name": "stdout",
     "output_type": "stream",
     "text": [
      "Original Text:\n",
      "The humany will use ai for good!\n",
      "\n",
      "Revised Text:\n",
      "The human race will utilize artificial intelligence for the benefit and betterment of all."
     ]
    }
   ],
   "source": [
    "display_chat(\"Try to revise every paragraph in text. You should only improve the user’s grammar and vocabulary and make sure it sounds natural: the humany will use ai for good!\")  "
   ]
  },
  {
   "cell_type": "markdown",
   "metadata": {},
   "source": [
    "## 23 - From now and on whenever you generate code that spans more than one file"
   ]
  },
  {
   "cell_type": "code",
   "execution_count": 26,
   "metadata": {},
   "outputs": [
    {
     "name": "stderr",
     "output_type": "stream",
     "text": [
      "The attention mask and the pad token id were not set. As a consequence, you may observe unexpected behavior. Please pass your input's `attention_mask` to obtain reliable results.\n",
      "Setting `pad_token_id` to `eos_token_id`:32000 for open-end generation.\n"
     ]
    },
    {
     "name": "stdout",
     "output_type": "stream",
     "text": [
      "In order to create a Django project with two basic apps for different functionalities, we'll need to generate multiple files and create them in a Python script. Here's an example of how this can be done:\n",
      "\n",
      "1. Create a Python script called `create_django_project.py`:\n",
      "```python\n",
      "import os\n",
      "import shutil\n",
      "\n",
      "def create_file(file_name, file_content):\n",
      "   with open(file_name, 'w') as file:\n",
      "       file.write(file_content)\n",
      "\n",
      "def create_directory(directory_name):\n",
      "   if not os.path.exists(directory_name):\n",
      "       os.makedirs(directory_name)\n",
      "\n",
      "def main():\n",
      "   directory_name = \"my_django_project\"\n",
      "   create_directory(directory_name)\n",
      "\n",
      "   # Create project structure\n",
      "   os.chdir(directory_name)\n",
      "   create_file(\"requirements.txt\", \"\")\n",
      "   create_file(\".env\", \"\")\n",
      "   create_file(\"MANAGE.PY\", \"\"\"from django.core.management import execute_from_command_line\n",
      "\n",
      "if __name__ == '__main__':\n",
      "   execute_from_command_line(['manage.py', 'runserver'])\n",
      "\"\"\")\n",
      "   create_file(\"settings.py\", \"\"\"\n",
      "from pathlib import Path\n",
      "\n",
      "BASE_DIR = Path(__file__).resolve().parent.parent\n",
      "\n",
      "SECRET_KEY = 'your-secret-key'\n",
      "\n",
      "DEBUG = True\n",
      "\n",
      "ALLOWED_HOSTS = []\n",
      "\n",
      "INSTALLED_APPS = [\n",
      "   'django.contrib.admin',\n",
      "   'django.contrib.auth',\n",
      "   'django.contrib.contenttypes',\n",
      "   'django.contrib.sessions',\n",
      "   'django.contrib.messages',\n",
      "   'django.contrib.staticfiles',\n",
      "]\n",
      "\n",
      "MIDDLEWARE = [\n",
      "   'django.middleware.security.SecurityMiddleware',\n",
      "   'django.contrib.sessions.middleware.SessionMiddleware',\n",
      "   'django.middleware"
     ]
    }
   ],
   "source": [
    "display_chat(\"Generate code that spans more than one file, and generate a Python script that can be run to automatically create the specified files for a Django project with two basic apps for different functionalities.\")"
   ]
  },
  {
   "cell_type": "markdown",
   "metadata": {},
   "source": [
    "## 24 - I’m providing you with the beginning [song lyrics/story/paragraph/essay..."
   ]
  },
  {
   "cell_type": "code",
   "execution_count": 25,
   "metadata": {},
   "outputs": [
    {
     "name": "stderr",
     "output_type": "stream",
     "text": [
      "The attention mask and the pad token id were not set. As a consequence, you may observe unexpected behavior. Please pass your input's `attention_mask` to obtain reliable results.\n",
      "Setting `pad_token_id` to `eos_token_id`:32000 for open-end generation.\n"
     ]
    },
    {
     "name": "stdout",
     "output_type": "stream",
     "text": [
      "as they whispered mysteriously to those who dared to venture into their depths. Legend had it that the heart of the Misty Mountains was a place where ancient magic resided, a place untouched by the hands of time. For centuries, the locals spoke of the mystical land, but few had ever returned to share their tales.\n",
      "\n",
      "Young and full of curiosity, Alaric, a brave and fearless adventurer, decided to embark on a journey to uncover the secrets of the Misty Mountains. He set off with a small group of trustworthy companions, each with their own unique talents and skills. The group consisted of Aria, a skilled archer and healer; Liam, a knowledgeable mage; and Thorne, a fierce warrior.\n",
      "\n",
      "As they ventured deeper into the mountain range, the group was met with challenges at every turn. The weather was unpredictable, with sudden storms and icy winds that threatened to tear their clothes from their bodies. The dense fog obscured their vision, and they had to rely on their instincts and Aria's exceptional navigational skills to find their way.\n",
      "\n",
      "One day, as they were traversing a narrow ledge, the ground beneath them suddenly gave way. Thorne and Liam managed to grab onto nearby rocks, but Aria and Alaric fell into a seemingly bottomless void. The group's hearts raced as they watched their friends disappear into the abyss.\n",
      "\n",
      "Miraculously, Aria and Alaric landed on a hidden platform, covered with lush green moss and ancient runes. The platform floated in mid-air, surrounded by a magical barrier that protected it from the treacherous mountain. To their astonishment, they found themselves standing in front of an enormous cave entrance, its walls glowing with a pulsating, mystical energy.\n",
      "\n",
      "Alaric, determined to uncover what lay within, led Aria and the others back to their friends and convinced them to venture forth. As they delved deeper into the cave, they discovered an underground world that defied all logic. Crystals of varying colors cast a soft light, while magical flora and fauna filled the air"
     ]
    }
   ],
   "source": [
    "display_chat(\"\"\"The misty mountains held secrets no man knew.\" I'm providing you with the beginning of a fantasy tale. Finish it based on the words above\"\"\")"
   ]
  },
  {
   "cell_type": "markdown",
   "metadata": {},
   "source": [
    "## 25 - Clearly state the requirements that the model must follow in order to produce content"
   ]
  },
  {
   "cell_type": "code",
   "execution_count": 27,
   "metadata": {},
   "outputs": [
    {
     "name": "stderr",
     "output_type": "stream",
     "text": [
      "The attention mask and the pad token id were not set. As a consequence, you may observe unexpected behavior. Please pass your input's `attention_mask` to obtain reliable results.\n",
      "Setting `pad_token_id` to `eos_token_id`:32000 for open-end generation.\n"
     ]
    },
    {
     "name": "stdout",
     "output_type": "stream",
     "text": [
      "Here is a comprehensive packing list for a beach vacation:\n",
      "\n",
      "1. Sunscreen: Choose a broad-spectrum sunscreen with at least SPF 30 to protect your skin from harmful UV rays. Remember to reapply every two hours or after swimming.\n",
      "\n",
      "2. Swimsuit: Pack one or two swimsuits depending on the duration of your trip. Consider choosing quick-drying material for convenience.\n",
      "\n",
      "3. Beach towel: Bring one large beach towel per person or a compact towel designed for travel.\n",
      "\n",
      "4. Swimsuit cover-up: A light cover-up is perfect for walking to the beach or enjoying a meal at an outdoor cafe.\n",
      "\n",
      "5. Sandals or flip-flops: Comfortable footwear is essential for walking on sand and getting in and out of water.\n",
      "\n",
      "6. Beach bag: A large, waterproof tote or backpack is ideal for carrying your belongings to the beach.\n",
      "\n",
      "7. Sunglasses: Protect your eyes from the sun with polarized sunglasses.\n",
      "\n",
      "8. Water bottle: Stay hydrated by bringing a reusable water bottle that can be refilled.\n",
      "\n",
      "9. Hat: A wide-brimmed hat will provide sun protection for your face and neck.\n",
      "\n",
      "10. Snacks: Pack some healthy snacks like granola bars, nuts, or fruit to keep you energized.\n",
      "\n",
      "11. Beach umbrella or sunshade: A portable umbrella or sunshade will provide shade and protect you from strong sunlight.\n",
      "\n",
      "12. Beach games and toys: Consider bringing a beach ball, frisbee, or inflatable beach toys for entertainment.\n",
      "\n",
      "13. Reading material: Don't forget a book or Kindle for relaxing reading.\n",
      "\n",
      "14. Camera or smartphone: Capture memories with a waterproof camera or your smartphone, which can also be used for capturing selfies.\n",
      "\n",
      "15. Swimming goggles: If you plan on swimming or snorkeling, don't forget swimming goggles.\n",
      "\n",
      "16. Extra change of clothes: Bring a lightweight outfit for after-beach"
     ]
    }
   ],
   "source": [
    "display_chat(\"Create a packing list for a beach vacation, including 'sunscreen,' 'swimsuit,' and 'beach towel' as essential items.\")"
   ]
  },
  {
   "cell_type": "markdown",
   "metadata": {},
   "source": [
    "## 26 - Please use the same language based on the provided paragraph[/title/text /essay/answer]"
   ]
  },
  {
   "cell_type": "code",
   "execution_count": 28,
   "metadata": {},
   "outputs": [
    {
     "name": "stderr",
     "output_type": "stream",
     "text": [
      "The attention mask and the pad token id were not set. As a consequence, you may observe unexpected behavior. Please pass your input's `attention_mask` to obtain reliable results.\n",
      "Setting `pad_token_id` to `eos_token_id`:32000 for open-end generation.\n"
     ]
    },
    {
     "name": "stdout",
     "output_type": "stream",
     "text": [
      "\"The serene peaks murmured chronicles of antiquity into the caressing breeze, each tale a transient echo of ages past.\""
     ]
    }
   ],
   "source": [
    "display_chat(\"\"\"\"The gentle waves whispered tales of old to the silvery sands, each story a fleeting memory of epochs gone by.\" Please use the same language based on the provided text to portray a mountain's interaction with the wind.\"\"\")"
   ]
  }
 ],
 "metadata": {
  "kernelspec": {
   "display_name": "Python 3 (ipykernel)",
   "language": "python",
   "name": "python3"
  },
  "language_info": {
   "codemirror_mode": {
    "name": "ipython",
    "version": 3
   },
   "file_extension": ".py",
   "mimetype": "text/x-python",
   "name": "python",
   "nbconvert_exporter": "python",
   "pygments_lexer": "ipython3",
   "version": "3.9.16"
  }
 },
 "nbformat": 4,
 "nbformat_minor": 2
}
